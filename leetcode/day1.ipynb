{
  "nbformat": 4,
  "nbformat_minor": 0,
  "metadata": {
    "colab": {
      "provenance": [],
      "authorship_tag": "ABX9TyPyx3MXRNNPfDK9N8L/dl2h",
      "include_colab_link": true
    },
    "kernelspec": {
      "name": "python3",
      "display_name": "Python 3"
    },
    "language_info": {
      "name": "python"
    }
  },
  "cells": [
    {
      "cell_type": "markdown",
      "metadata": {
        "id": "view-in-github",
        "colab_type": "text"
      },
      "source": [
        "<a href=\"https://colab.research.google.com/github/anandchauhan21/internship/blob/main/leetcode/day1.ipynb\" target=\"_parent\"><img src=\"https://colab.research.google.com/assets/colab-badge.svg\" alt=\"Open In Colab\"/></a>"
      ]
    },
    {
      "cell_type": "code",
      "execution_count": null,
      "metadata": {
        "colab": {
          "base_uri": "https://localhost:8080/"
        },
        "id": "t73rPmw_2z7O",
        "outputId": "20678990-786c-4aea-cf54-f0eae7f3f9c4"
      },
      "outputs": [
        {
          "output_type": "stream",
          "name": "stdout",
          "text": [
            "0\n",
            "3\n"
          ]
        }
      ],
      "source": [
        "l = [3,2,2,3]\n",
        "t = 3\n",
        "for i in range(len(l)):\n",
        "  if t == l[i]:\n",
        "    print(i)"
      ]
    },
    {
      "cell_type": "code",
      "source": [
        "l = [3,2,2,3]\n",
        "t =3\n",
        "k = 0\n",
        "for i in range(len(l)):\n",
        "  if l[i] != t:\n",
        "    l[k] = l[i]\n",
        "    k +=1\n",
        "print(k)\n",
        "print(l)"
      ],
      "metadata": {
        "colab": {
          "base_uri": "https://localhost:8080/"
        },
        "id": "wGDqtqx94Z4J",
        "outputId": "24a85785-f1f1-4466-c84e-c0cb92225ccf"
      },
      "execution_count": null,
      "outputs": [
        {
          "output_type": "stream",
          "name": "stdout",
          "text": [
            "2\n",
            "[2, 2, 2, 3]\n"
          ]
        }
      ]
    },
    {
      "cell_type": "markdown",
      "source": [
        "# code 27"
      ],
      "metadata": {
        "id": "PeDGSHzc3k63"
      }
    }
  ]
}